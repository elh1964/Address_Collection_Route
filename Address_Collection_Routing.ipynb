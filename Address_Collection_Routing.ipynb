{
 "cells": [
  {
   "cell_type": "code",
   "execution_count": 1,
   "metadata": {},
   "outputs": [],
   "source": [
    "import geopy\n",
    "from geopy.geocoders import Nominatim\n",
    "from geopy.extra.rate_limiter import RateLimiter\n",
    "import pandas as pd\n",
    "import folium\n",
    "import requests\n",
    "import json\n",
    "import webbrowser"
   ]
  },
  {
   "cell_type": "code",
   "execution_count": 2,
   "metadata": {},
   "outputs": [],
   "source": [
    "ORS_API_KEY = '5b3ce3597851110001cf6248943b6a36013a42f59fa7b6d69967ea94'"
   ]
  },
  {
   "cell_type": "code",
   "execution_count": 3,
   "metadata": {},
   "outputs": [],
   "source": [
    "# places to visit enter the Lat,Lon need to route\n",
    "place = [['0',35.69733964,-88.37940135],\n",
    "         ['1',35.70387548,-88.27184805], \n",
    "         ['2',35.68062382,-88.25015472],\n",
    "         ['3',35.690187,-88.23135383],\n",
    "         ['4',35.67708356,-88.39348067],\n",
    "         ]"
   ]
  },
  {
   "cell_type": "code",
   "execution_count": 4,
   "metadata": {},
   "outputs": [
    {
     "data": {
      "text/html": [
       "<div>\n",
       "<style scoped>\n",
       "    .dataframe tbody tr th:only-of-type {\n",
       "        vertical-align: middle;\n",
       "    }\n",
       "\n",
       "    .dataframe tbody tr th {\n",
       "        vertical-align: top;\n",
       "    }\n",
       "\n",
       "    .dataframe thead th {\n",
       "        text-align: right;\n",
       "    }\n",
       "</style>\n",
       "<table border=\"1\" class=\"dataframe\">\n",
       "  <thead>\n",
       "    <tr style=\"text-align: right;\">\n",
       "      <th></th>\n",
       "      <th>place</th>\n",
       "      <th>Lat</th>\n",
       "      <th>Lon</th>\n",
       "    </tr>\n",
       "  </thead>\n",
       "  <tbody>\n",
       "    <tr>\n",
       "      <th>0</th>\n",
       "      <td>0</td>\n",
       "      <td>35.697340</td>\n",
       "      <td>-88.379401</td>\n",
       "    </tr>\n",
       "    <tr>\n",
       "      <th>1</th>\n",
       "      <td>1</td>\n",
       "      <td>35.703875</td>\n",
       "      <td>-88.271848</td>\n",
       "    </tr>\n",
       "    <tr>\n",
       "      <th>2</th>\n",
       "      <td>2</td>\n",
       "      <td>35.680624</td>\n",
       "      <td>-88.250155</td>\n",
       "    </tr>\n",
       "    <tr>\n",
       "      <th>3</th>\n",
       "      <td>3</td>\n",
       "      <td>35.690187</td>\n",
       "      <td>-88.231354</td>\n",
       "    </tr>\n",
       "    <tr>\n",
       "      <th>4</th>\n",
       "      <td>4</td>\n",
       "      <td>35.677084</td>\n",
       "      <td>-88.393481</td>\n",
       "    </tr>\n",
       "  </tbody>\n",
       "</table>\n",
       "</div>"
      ],
      "text/plain": [
       "  place        Lat        Lon\n",
       "0     0  35.697340 -88.379401\n",
       "1     1  35.703875 -88.271848\n",
       "2     2  35.680624 -88.250155\n",
       "3     3  35.690187 -88.231354\n",
       "4     4  35.677084 -88.393481"
      ]
     },
     "execution_count": 4,
     "metadata": {},
     "output_type": "execute_result"
    }
   ],
   "source": [
    "# Create pandas dataframe\n",
    "df = pd.DataFrame(place, columns = ['place', 'Lat','Lon'])\n",
    "df"
   ]
  },
  {
   "cell_type": "code",
   "execution_count": 5,
   "metadata": {},
   "outputs": [
    {
     "data": {
      "text/html": [
       "<div style=\"width:100%;\"><div style=\"position:relative;width:100%;height:0;padding-bottom:60%;\"><span style=\"color:#565656\">Make this Notebook Trusted to load map: File -> Trust Notebook</span><iframe src=\"about:blank\" style=\"position:absolute;width:100%;height:100%;left:0;top:0;border:none !important;\" data-html=%3C%21DOCTYPE%20html%3E%0A%3Chead%3E%20%20%20%20%0A%20%20%20%20%3Cmeta%20http-equiv%3D%22content-type%22%20content%3D%22text/html%3B%20charset%3DUTF-8%22%20/%3E%0A%20%20%20%20%0A%20%20%20%20%20%20%20%20%3Cscript%3E%0A%20%20%20%20%20%20%20%20%20%20%20%20L_NO_TOUCH%20%3D%20false%3B%0A%20%20%20%20%20%20%20%20%20%20%20%20L_DISABLE_3D%20%3D%20false%3B%0A%20%20%20%20%20%20%20%20%3C/script%3E%0A%20%20%20%20%0A%20%20%20%20%3Cstyle%3Ehtml%2C%20body%20%7Bwidth%3A%20100%25%3Bheight%3A%20100%25%3Bmargin%3A%200%3Bpadding%3A%200%3B%7D%3C/style%3E%0A%20%20%20%20%3Cstyle%3E%23map%20%7Bposition%3Aabsolute%3Btop%3A0%3Bbottom%3A0%3Bright%3A0%3Bleft%3A0%3B%7D%3C/style%3E%0A%20%20%20%20%3Cscript%20src%3D%22https%3A//cdn.jsdelivr.net/npm/leaflet%401.6.0/dist/leaflet.js%22%3E%3C/script%3E%0A%20%20%20%20%3Cscript%20src%3D%22https%3A//code.jquery.com/jquery-1.12.4.min.js%22%3E%3C/script%3E%0A%20%20%20%20%3Cscript%20src%3D%22https%3A//maxcdn.bootstrapcdn.com/bootstrap/3.2.0/js/bootstrap.min.js%22%3E%3C/script%3E%0A%20%20%20%20%3Cscript%20src%3D%22https%3A//cdnjs.cloudflare.com/ajax/libs/Leaflet.awesome-markers/2.0.2/leaflet.awesome-markers.js%22%3E%3C/script%3E%0A%20%20%20%20%3Clink%20rel%3D%22stylesheet%22%20href%3D%22https%3A//cdn.jsdelivr.net/npm/leaflet%401.6.0/dist/leaflet.css%22/%3E%0A%20%20%20%20%3Clink%20rel%3D%22stylesheet%22%20href%3D%22https%3A//maxcdn.bootstrapcdn.com/bootstrap/3.2.0/css/bootstrap.min.css%22/%3E%0A%20%20%20%20%3Clink%20rel%3D%22stylesheet%22%20href%3D%22https%3A//maxcdn.bootstrapcdn.com/bootstrap/3.2.0/css/bootstrap-theme.min.css%22/%3E%0A%20%20%20%20%3Clink%20rel%3D%22stylesheet%22%20href%3D%22https%3A//maxcdn.bootstrapcdn.com/font-awesome/4.6.3/css/font-awesome.min.css%22/%3E%0A%20%20%20%20%3Clink%20rel%3D%22stylesheet%22%20href%3D%22https%3A//cdnjs.cloudflare.com/ajax/libs/Leaflet.awesome-markers/2.0.2/leaflet.awesome-markers.css%22/%3E%0A%20%20%20%20%3Clink%20rel%3D%22stylesheet%22%20href%3D%22https%3A//cdn.jsdelivr.net/gh/python-visualization/folium/folium/templates/leaflet.awesome.rotate.min.css%22/%3E%0A%20%20%20%20%0A%20%20%20%20%20%20%20%20%20%20%20%20%3Cmeta%20name%3D%22viewport%22%20content%3D%22width%3Ddevice-width%2C%0A%20%20%20%20%20%20%20%20%20%20%20%20%20%20%20%20initial-scale%3D1.0%2C%20maximum-scale%3D1.0%2C%20user-scalable%3Dno%22%20/%3E%0A%20%20%20%20%20%20%20%20%20%20%20%20%3Cstyle%3E%0A%20%20%20%20%20%20%20%20%20%20%20%20%20%20%20%20%23map_abdf7e90be604bf2b55edf2486c52016%20%7B%0A%20%20%20%20%20%20%20%20%20%20%20%20%20%20%20%20%20%20%20%20position%3A%20relative%3B%0A%20%20%20%20%20%20%20%20%20%20%20%20%20%20%20%20%20%20%20%20width%3A%20100.0%25%3B%0A%20%20%20%20%20%20%20%20%20%20%20%20%20%20%20%20%20%20%20%20height%3A%20100.0%25%3B%0A%20%20%20%20%20%20%20%20%20%20%20%20%20%20%20%20%20%20%20%20left%3A%200.0%25%3B%0A%20%20%20%20%20%20%20%20%20%20%20%20%20%20%20%20%20%20%20%20top%3A%200.0%25%3B%0A%20%20%20%20%20%20%20%20%20%20%20%20%20%20%20%20%7D%0A%20%20%20%20%20%20%20%20%20%20%20%20%3C/style%3E%0A%20%20%20%20%20%20%20%20%0A%3C/head%3E%0A%3Cbody%3E%20%20%20%20%0A%20%20%20%20%0A%20%20%20%20%20%20%20%20%20%20%20%20%3Cdiv%20class%3D%22folium-map%22%20id%3D%22map_abdf7e90be604bf2b55edf2486c52016%22%20%3E%3C/div%3E%0A%20%20%20%20%20%20%20%20%0A%3C/body%3E%0A%3Cscript%3E%20%20%20%20%0A%20%20%20%20%0A%20%20%20%20%20%20%20%20%20%20%20%20var%20map_abdf7e90be604bf2b55edf2486c52016%20%3D%20L.map%28%0A%20%20%20%20%20%20%20%20%20%20%20%20%20%20%20%20%22map_abdf7e90be604bf2b55edf2486c52016%22%2C%0A%20%20%20%20%20%20%20%20%20%20%20%20%20%20%20%20%7B%0A%20%20%20%20%20%20%20%20%20%20%20%20%20%20%20%20%20%20%20%20center%3A%20%5B35.69734%2C%20-88.379401%5D%2C%0A%20%20%20%20%20%20%20%20%20%20%20%20%20%20%20%20%20%20%20%20crs%3A%20L.CRS.EPSG3857%2C%0A%20%20%20%20%20%20%20%20%20%20%20%20%20%20%20%20%20%20%20%20zoom%3A%2013%2C%0A%20%20%20%20%20%20%20%20%20%20%20%20%20%20%20%20%20%20%20%20zoomControl%3A%20true%2C%0A%20%20%20%20%20%20%20%20%20%20%20%20%20%20%20%20%20%20%20%20preferCanvas%3A%20false%2C%0A%20%20%20%20%20%20%20%20%20%20%20%20%20%20%20%20%7D%0A%20%20%20%20%20%20%20%20%20%20%20%20%29%3B%0A%0A%20%20%20%20%20%20%20%20%20%20%20%20%0A%0A%20%20%20%20%20%20%20%20%0A%20%20%20%20%0A%20%20%20%20%20%20%20%20%20%20%20%20var%20tile_layer_9e2486f3589d4346a96ae6c37c42207b%20%3D%20L.tileLayer%28%0A%20%20%20%20%20%20%20%20%20%20%20%20%20%20%20%20%22https%3A//stamen-tiles-%7Bs%7D.a.ssl.fastly.net/toner/%7Bz%7D/%7Bx%7D/%7By%7D.png%22%2C%0A%20%20%20%20%20%20%20%20%20%20%20%20%20%20%20%20%7B%22attribution%22%3A%20%22Map%20tiles%20by%20%5Cu003ca%20href%3D%5C%22http%3A//stamen.com%5C%22%5Cu003eStamen%20Design%5Cu003c/a%5Cu003e%2C%20under%20%5Cu003ca%20href%3D%5C%22http%3A//creativecommons.org/licenses/by/3.0%5C%22%5Cu003eCC%20BY%203.0%5Cu003c/a%5Cu003e.%20Data%20by%20%5Cu0026copy%3B%20%5Cu003ca%20href%3D%5C%22http%3A//openstreetmap.org%5C%22%5Cu003eOpenStreetMap%5Cu003c/a%5Cu003e%2C%20under%20%5Cu003ca%20href%3D%5C%22http%3A//www.openstreetmap.org/copyright%5C%22%5Cu003eODbL%5Cu003c/a%5Cu003e.%22%2C%20%22detectRetina%22%3A%20false%2C%20%22maxNativeZoom%22%3A%2018%2C%20%22maxZoom%22%3A%2018%2C%20%22minZoom%22%3A%200%2C%20%22noWrap%22%3A%20false%2C%20%22opacity%22%3A%201%2C%20%22subdomains%22%3A%20%22abc%22%2C%20%22tms%22%3A%20false%7D%0A%20%20%20%20%20%20%20%20%20%20%20%20%29.addTo%28map_abdf7e90be604bf2b55edf2486c52016%29%3B%0A%20%20%20%20%20%20%20%20%0A%20%20%20%20%0A%20%20%20%20%20%20%20%20%20%20%20%20var%20marker_06e7f76c782d4959bc0597dc396833a4%20%3D%20L.marker%28%0A%20%20%20%20%20%20%20%20%20%20%20%20%20%20%20%20%5B35.69733964%2C%20-88.37940135%5D%2C%0A%20%20%20%20%20%20%20%20%20%20%20%20%20%20%20%20%7B%7D%0A%20%20%20%20%20%20%20%20%20%20%20%20%29.addTo%28map_abdf7e90be604bf2b55edf2486c52016%29%3B%0A%20%20%20%20%20%20%20%20%0A%20%20%20%20%0A%20%20%20%20%20%20%20%20%20%20%20%20var%20marker_c447488d12014124889f45b0701ab4b9%20%3D%20L.marker%28%0A%20%20%20%20%20%20%20%20%20%20%20%20%20%20%20%20%5B35.70387548%2C%20-88.27184805%5D%2C%0A%20%20%20%20%20%20%20%20%20%20%20%20%20%20%20%20%7B%7D%0A%20%20%20%20%20%20%20%20%20%20%20%20%29.addTo%28map_abdf7e90be604bf2b55edf2486c52016%29%3B%0A%20%20%20%20%20%20%20%20%0A%20%20%20%20%0A%20%20%20%20%20%20%20%20%20%20%20%20var%20marker_bdc04cd9b0b74d39aa58a5e86ea6fa61%20%3D%20L.marker%28%0A%20%20%20%20%20%20%20%20%20%20%20%20%20%20%20%20%5B35.68062382%2C%20-88.25015472%5D%2C%0A%20%20%20%20%20%20%20%20%20%20%20%20%20%20%20%20%7B%7D%0A%20%20%20%20%20%20%20%20%20%20%20%20%29.addTo%28map_abdf7e90be604bf2b55edf2486c52016%29%3B%0A%20%20%20%20%20%20%20%20%0A%20%20%20%20%0A%20%20%20%20%20%20%20%20%20%20%20%20var%20marker_c6abdcfcb9f3466cae2ca9369076e66b%20%3D%20L.marker%28%0A%20%20%20%20%20%20%20%20%20%20%20%20%20%20%20%20%5B35.690187%2C%20-88.23135383%5D%2C%0A%20%20%20%20%20%20%20%20%20%20%20%20%20%20%20%20%7B%7D%0A%20%20%20%20%20%20%20%20%20%20%20%20%29.addTo%28map_abdf7e90be604bf2b55edf2486c52016%29%3B%0A%20%20%20%20%20%20%20%20%0A%20%20%20%20%0A%20%20%20%20%20%20%20%20%20%20%20%20var%20marker_b4e21ca599a54b70af730c42cbf614f5%20%3D%20L.marker%28%0A%20%20%20%20%20%20%20%20%20%20%20%20%20%20%20%20%5B35.67708356%2C%20-88.39348067%5D%2C%0A%20%20%20%20%20%20%20%20%20%20%20%20%20%20%20%20%7B%7D%0A%20%20%20%20%20%20%20%20%20%20%20%20%29.addTo%28map_abdf7e90be604bf2b55edf2486c52016%29%3B%0A%20%20%20%20%20%20%20%20%0A%3C/script%3E onload=\"this.contentDocument.open();this.contentDocument.write(    decodeURIComponent(this.getAttribute('data-html')));this.contentDocument.close();\" allowfullscreen webkitallowfullscreen mozallowfullscreen></iframe></div></div>"
      ],
      "text/plain": [
       "<folium.folium.Map at 0x2001f51bb50>"
      ]
     },
     "execution_count": 5,
     "metadata": {},
     "output_type": "execute_result"
    }
   ],
   "source": [
    "# tip: https://openrouteservice.org/example-optimize-pub-crawl-with-ors/\n",
    "# Mapping using folium\n",
    "my_map = folium.Map(\n",
    "    location=[35.697340, -88.379401],\n",
    "    tiles='Stamen Toner',\n",
    "    zoom_start=13)\n",
    "df.apply(lambda row:folium.Marker(location=[row['Lat'], row['Lon']]).add_to(my_map), axis=1)\n",
    "\n",
    "# display map\n",
    "my_map"
   ]
  },
  {
   "cell_type": "code",
   "execution_count": 6,
   "metadata": {},
   "outputs": [],
   "source": [
    "# Data for finding shortest route\n",
    "start_location = [df.iloc[0]['Lon'], df.iloc[0]['Lat']]\n",
    "end_location = [df.iloc[0]['Lon'], df.iloc[0]['Lat']]\n",
    "vehicle = [{ \"id\":1,\n",
    "            \"profile\":\"driving-car\",\n",
    "            \"start\":start_location,\n",
    "            \"end\":end_location,\n",
    "            \"capacity\":[6]    \n",
    "}]\n",
    "# stops\n",
    "stops = []\n",
    "for index, row in df[1:].iterrows():\n",
    "    stop = {}\n",
    "    stop['id'] = index + 1\n",
    "    stop['service'] = 300\n",
    "    stop['delivery'] = [1]\n",
    "    stop['location'] =  [row['Lon'], row['Lat']]\n",
    "    stops.append(stop) "
   ]
  },
  {
   "cell_type": "code",
   "execution_count": 7,
   "metadata": {},
   "outputs": [
    {
     "data": {
      "text/plain": [
       "[{'id': 2,\n",
       "  'service': 300,\n",
       "  'delivery': [1],\n",
       "  'location': [-88.27184805, 35.70387548]},\n",
       " {'id': 3,\n",
       "  'service': 300,\n",
       "  'delivery': [1],\n",
       "  'location': [-88.25015472, 35.68062382]},\n",
       " {'id': 4,\n",
       "  'service': 300,\n",
       "  'delivery': [1],\n",
       "  'location': [-88.23135383, 35.690187]},\n",
       " {'id': 5,\n",
       "  'service': 300,\n",
       "  'delivery': [1],\n",
       "  'location': [-88.39348067, 35.67708356]}]"
      ]
     },
     "execution_count": 7,
     "metadata": {},
     "output_type": "execute_result"
    }
   ],
   "source": [
    "stops"
   ]
  },
  {
   "cell_type": "code",
   "execution_count": 8,
   "metadata": {},
   "outputs": [
    {
     "name": "stdout",
     "output_type": "stream",
     "text": [
      "200 OK\n",
      "{\"code\":0,\"summary\":{\"cost\":5001,\"unassigned\":0,\"delivery\":[4],\"amount\":[4],\"pickup\":[0],\"service\":1200,\"duration\":5001,\"waiting_time\":0,\"computing_times\":{\"loading\":61,\"solving\":1}},\"unassigned\":[],\"routes\":[{\"vehicle\":1,\"cost\":5001,\"delivery\":[4],\"amount\":[4],\"pickup\":[0],\"service\":1200,\"duration\":5001,\"waiting_time\":0,\"steps\":[{\"type\":\"start\",\"location\":[-88.37940135,35.69733964],\"load\":[4],\"arrival\":0,\"duration\":0},{\"type\":\"job\",\"location\":[-88.23135383,35.690187],\"id\":4,\"service\":300,\"waiting_time\":0,\"job\":4,\"load\":[3],\"arrival\":1940,\"duration\":1940},{\"type\":\"job\",\"location\":[-88.25015472,35.68062382],\"id\":3,\"service\":300,\"waiting_time\":0,\"job\":3,\"load\":[2],\"arrival\":2823,\"duration\":2523},{\"type\":\"job\",\"location\":[-88.27184805,35.70387548],\"id\":2,\"service\":300,\"waiting_time\":0,\"job\":2,\"load\":[1],\"arrival\":3413,\"duration\":2813},{\"type\":\"job\",\"location\":[-88.39348067,35.67708356],\"id\":5,\"service\":300,\"waiting_time\":0,\"job\":5,\"load\":[0],\"arrival\":5360,\"duration\":4460},{\"type\":\"end\",\"location\":[-88.37940135,35.69733964],\"load\":[0],\"arrival\":6201,\"duration\":5001}]}]}\n",
      "\n"
     ]
    }
   ],
   "source": [
    "# api call to openrouteservice\n",
    "\n",
    "body = {'jobs':stops, 'vehicles': vehicle}\n",
    "headers = {\n",
    "    'Accept': 'application/json, application/geo+json, application/gpx+xml, img/png; charset=utf-8',\n",
    "    'Authorization': ORS_API_KEY,\n",
    "    'Content-Type': 'application/json; charset=utf-8'\n",
    "}\n",
    "response = requests.post('https://api.openrouteservice.org/optimization', json=body, headers=headers)\n",
    "\n",
    "print(response.status_code, response.reason)\n",
    "print(response.text)"
   ]
  },
  {
   "cell_type": "code",
   "execution_count": 9,
   "metadata": {},
   "outputs": [
    {
     "data": {
      "text/plain": [
       "[(35.69733964, -88.37940135),\n",
       " (35.690187, -88.23135383),\n",
       " (35.68062382, -88.25015472),\n",
       " (35.70387548, -88.27184805),\n",
       " (35.67708356, -88.39348067),\n",
       " (35.69733964, -88.37940135)]"
      ]
     },
     "execution_count": 9,
     "metadata": {},
     "output_type": "execute_result"
    }
   ],
   "source": [
    "# Total Drive Time in minutes\n",
    "data = response.json()\n",
    "total_drive_time = data['summary']['cost'] / 60\n",
    "# Shortest Route\n",
    "steps = data['routes'][0]['steps']\n",
    "route_points = []\n",
    "for step in steps:\n",
    "    route_step = (step['location'][1], step['location'][0])\n",
    "    route_points.append(route_step)\n",
    "route_points"
   ]
  },
  {
   "cell_type": "code",
   "execution_count": 10,
   "metadata": {},
   "outputs": [
    {
     "data": {
      "text/plain": [
       "[[(35.69733964, -88.37940135), (35.690187, -88.23135383)],\n",
       " [(35.690187, -88.23135383), (35.68062382, -88.25015472)],\n",
       " [(35.68062382, -88.25015472), (35.70387548, -88.27184805)],\n",
       " [(35.70387548, -88.27184805), (35.67708356, -88.39348067)],\n",
       " [(35.67708356, -88.39348067), (35.69733964, -88.37940135)]]"
      ]
     },
     "execution_count": 10,
     "metadata": {},
     "output_type": "execute_result"
    }
   ],
   "source": [
    "route_pairs = []\n",
    "for index, item in enumerate(route_points):\n",
    "    if index < len(route_points)-1:\n",
    "        route_pairs.append([item, route_points[index+1]])\n",
    "route_pairs"
   ]
  },
  {
   "cell_type": "code",
   "execution_count": 11,
   "metadata": {},
   "outputs": [],
   "source": [
    "\n",
    "\n",
    "def get_driving_route(source_coordinates, dest_coordinates):\n",
    "    parameters = {\n",
    "    'api_key': ORS_API_KEY,\n",
    "    'start' : '{},{}'.format(source_coordinates[1], source_coordinates[0]),\n",
    "    'end' : '{},{}'.format(dest_coordinates[1], dest_coordinates[0])\n",
    "    }\n",
    "\n",
    "    response = requests.get(\n",
    "        'https://api.openrouteservice.org/v2/directions/driving-car', params=parameters)\n",
    "\n",
    "    if response.status_code == 200:\n",
    "        data = response.json()\n",
    "    else:\n",
    "        print('Request failed.')\n",
    "    \n",
    "\n",
    "    def swap(coord):\n",
    "        coord[0],coord[1]=coord[1],coord[0]\n",
    "        return coord\n",
    "\n",
    "    summary = data['features'][0]['properties']['summary']\n",
    "    route= data['features'][0]['geometry']['coordinates']\n",
    "    \n",
    "    route=list(map(swap, route))\n",
    "    return route\n",
    "    \n",
    "routes = []\n",
    "for source, destination in route_pairs:\n",
    "    route = get_driving_route(source, destination)\n",
    "    routes.append(route)\n"
   ]
  },
  {
   "cell_type": "code",
   "execution_count": 12,
   "metadata": {},
   "outputs": [
    {
     "data": {
      "text/html": [
       "<div style=\"width:100%;\"><div style=\"position:relative;width:100%;height:0;padding-bottom:60%;\"><span style=\"color:#565656\">Make this Notebook Trusted to load map: File -> Trust Notebook</span><iframe src=\"about:blank\" style=\"position:absolute;width:100%;height:100%;left:0;top:0;border:none !important;\" data-html=%3C%21DOCTYPE%20html%3E%0A%3Chead%3E%20%20%20%20%0A%20%20%20%20%3Cmeta%20http-equiv%3D%22content-type%22%20content%3D%22text/html%3B%20charset%3DUTF-8%22%20/%3E%0A%20%20%20%20%0A%20%20%20%20%20%20%20%20%3Cscript%3E%0A%20%20%20%20%20%20%20%20%20%20%20%20L_NO_TOUCH%20%3D%20false%3B%0A%20%20%20%20%20%20%20%20%20%20%20%20L_DISABLE_3D%20%3D%20false%3B%0A%20%20%20%20%20%20%20%20%3C/script%3E%0A%20%20%20%20%0A%20%20%20%20%3Cstyle%3Ehtml%2C%20body%20%7Bwidth%3A%20100%25%3Bheight%3A%20100%25%3Bmargin%3A%200%3Bpadding%3A%200%3B%7D%3C/style%3E%0A%20%20%20%20%3Cstyle%3E%23map%20%7Bposition%3Aabsolute%3Btop%3A0%3Bbottom%3A0%3Bright%3A0%3Bleft%3A0%3B%7D%3C/style%3E%0A%20%20%20%20%3Cscript%20src%3D%22https%3A//cdn.jsdelivr.net/npm/leaflet%401.6.0/dist/leaflet.js%22%3E%3C/script%3E%0A%20%20%20%20%3Cscript%20src%3D%22https%3A//code.jquery.com/jquery-1.12.4.min.js%22%3E%3C/script%3E%0A%20%20%20%20%3Cscript%20src%3D%22https%3A//maxcdn.bootstrapcdn.com/bootstrap/3.2.0/js/bootstrap.min.js%22%3E%3C/script%3E%0A%20%20%20%20%3Cscript%20src%3D%22https%3A//cdnjs.cloudflare.com/ajax/libs/Leaflet.awesome-markers/2.0.2/leaflet.awesome-markers.js%22%3E%3C/script%3E%0A%20%20%20%20%3Clink%20rel%3D%22stylesheet%22%20href%3D%22https%3A//cdn.jsdelivr.net/npm/leaflet%401.6.0/dist/leaflet.css%22/%3E%0A%20%20%20%20%3Clink%20rel%3D%22stylesheet%22%20href%3D%22https%3A//maxcdn.bootstrapcdn.com/bootstrap/3.2.0/css/bootstrap.min.css%22/%3E%0A%20%20%20%20%3Clink%20rel%3D%22stylesheet%22%20href%3D%22https%3A//maxcdn.bootstrapcdn.com/bootstrap/3.2.0/css/bootstrap-theme.min.css%22/%3E%0A%20%20%20%20%3Clink%20rel%3D%22stylesheet%22%20href%3D%22https%3A//maxcdn.bootstrapcdn.com/font-awesome/4.6.3/css/font-awesome.min.css%22/%3E%0A%20%20%20%20%3Clink%20rel%3D%22stylesheet%22%20href%3D%22https%3A//cdnjs.cloudflare.com/ajax/libs/Leaflet.awesome-markers/2.0.2/leaflet.awesome-markers.css%22/%3E%0A%20%20%20%20%3Clink%20rel%3D%22stylesheet%22%20href%3D%22https%3A//cdn.jsdelivr.net/gh/python-visualization/folium/folium/templates/leaflet.awesome.rotate.min.css%22/%3E%0A%20%20%20%20%0A%20%20%20%20%20%20%20%20%20%20%20%20%3Cmeta%20name%3D%22viewport%22%20content%3D%22width%3Ddevice-width%2C%0A%20%20%20%20%20%20%20%20%20%20%20%20%20%20%20%20initial-scale%3D1.0%2C%20maximum-scale%3D1.0%2C%20user-scalable%3Dno%22%20/%3E%0A%20%20%20%20%20%20%20%20%20%20%20%20%3Cstyle%3E%0A%20%20%20%20%20%20%20%20%20%20%20%20%20%20%20%20%23map_a37cd89cbbc14327afa914a080299374%20%7B%0A%20%20%20%20%20%20%20%20%20%20%20%20%20%20%20%20%20%20%20%20position%3A%20relative%3B%0A%20%20%20%20%20%20%20%20%20%20%20%20%20%20%20%20%20%20%20%20width%3A%20100.0%25%3B%0A%20%20%20%20%20%20%20%20%20%20%20%20%20%20%20%20%20%20%20%20height%3A%20100.0%25%3B%0A%20%20%20%20%20%20%20%20%20%20%20%20%20%20%20%20%20%20%20%20left%3A%200.0%25%3B%0A%20%20%20%20%20%20%20%20%20%20%20%20%20%20%20%20%20%20%20%20top%3A%200.0%25%3B%0A%20%20%20%20%20%20%20%20%20%20%20%20%20%20%20%20%7D%0A%20%20%20%20%20%20%20%20%20%20%20%20%3C/style%3E%0A%20%20%20%20%20%20%20%20%0A%3C/head%3E%0A%3Cbody%3E%20%20%20%20%0A%20%20%20%20%0A%20%20%20%20%20%20%20%20%20%20%20%20%3Cdiv%20class%3D%22folium-map%22%20id%3D%22map_a37cd89cbbc14327afa914a080299374%22%20%3E%3C/div%3E%0A%20%20%20%20%20%20%20%20%0A%3C/body%3E%0A%3Cscript%3E%20%20%20%20%0A%20%20%20%20%0A%20%20%20%20%20%20%20%20%20%20%20%20var%20map_a37cd89cbbc14327afa914a080299374%20%3D%20L.map%28%0A%20%20%20%20%20%20%20%20%20%20%20%20%20%20%20%20%22map_a37cd89cbbc14327afa914a080299374%22%2C%0A%20%20%20%20%20%20%20%20%20%20%20%20%20%20%20%20%7B%0A%20%20%20%20%20%20%20%20%20%20%20%20%20%20%20%20%20%20%20%20center%3A%20%5B35.69107485666667%2C%20-88.31760666166667%5D%2C%0A%20%20%20%20%20%20%20%20%20%20%20%20%20%20%20%20%20%20%20%20crs%3A%20L.CRS.EPSG3857%2C%0A%20%20%20%20%20%20%20%20%20%20%20%20%20%20%20%20%20%20%20%20zoom%3A%2013%2C%0A%20%20%20%20%20%20%20%20%20%20%20%20%20%20%20%20%20%20%20%20zoomControl%3A%20true%2C%0A%20%20%20%20%20%20%20%20%20%20%20%20%20%20%20%20%20%20%20%20preferCanvas%3A%20false%2C%0A%20%20%20%20%20%20%20%20%20%20%20%20%20%20%20%20%7D%0A%20%20%20%20%20%20%20%20%20%20%20%20%29%3B%0A%0A%20%20%20%20%20%20%20%20%20%20%20%20%0A%0A%20%20%20%20%20%20%20%20%0A%20%20%20%20%0A%20%20%20%20%20%20%20%20%20%20%20%20var%20tile_layer_8e27bfe6c866472eb311c9cd3b5af167%20%3D%20L.tileLayer%28%0A%20%20%20%20%20%20%20%20%20%20%20%20%20%20%20%20%22https%3A//stamen-tiles-%7Bs%7D.a.ssl.fastly.net/toner/%7Bz%7D/%7Bx%7D/%7By%7D.png%22%2C%0A%20%20%20%20%20%20%20%20%20%20%20%20%20%20%20%20%7B%22attribution%22%3A%20%22Map%20tiles%20by%20%5Cu003ca%20href%3D%5C%22http%3A//stamen.com%5C%22%5Cu003eStamen%20Design%5Cu003c/a%5Cu003e%2C%20under%20%5Cu003ca%20href%3D%5C%22http%3A//creativecommons.org/licenses/by/3.0%5C%22%5Cu003eCC%20BY%203.0%5Cu003c/a%5Cu003e.%20Data%20by%20%5Cu0026copy%3B%20%5Cu003ca%20href%3D%5C%22http%3A//openstreetmap.org%5C%22%5Cu003eOpenStreetMap%5Cu003c/a%5Cu003e%2C%20under%20%5Cu003ca%20href%3D%5C%22http%3A//www.openstreetmap.org/copyright%5C%22%5Cu003eODbL%5Cu003c/a%5Cu003e.%22%2C%20%22detectRetina%22%3A%20false%2C%20%22maxNativeZoom%22%3A%2018%2C%20%22maxZoom%22%3A%2018%2C%20%22minZoom%22%3A%200%2C%20%22noWrap%22%3A%20false%2C%20%22opacity%22%3A%201%2C%20%22subdomains%22%3A%20%22abc%22%2C%20%22tms%22%3A%20false%7D%0A%20%20%20%20%20%20%20%20%20%20%20%20%29.addTo%28map_a37cd89cbbc14327afa914a080299374%29%3B%0A%20%20%20%20%20%20%20%20%0A%20%20%20%20%0A%20%20%20%20%20%20%20%20%20%20%20%20var%20marker_ae252b8323a3436d9063faec766166eb%20%3D%20L.marker%28%0A%20%20%20%20%20%20%20%20%20%20%20%20%20%20%20%20%5B35.69733964%2C%20-88.37940135%5D%2C%0A%20%20%20%20%20%20%20%20%20%20%20%20%20%20%20%20%7B%7D%0A%20%20%20%20%20%20%20%20%20%20%20%20%29.addTo%28map_a37cd89cbbc14327afa914a080299374%29%3B%0A%20%20%20%20%20%20%20%20%0A%20%20%20%20%0A%20%20%20%20%20%20%20%20%20%20%20%20var%20icon_22bd68dca8ea459981fbff44f35a8dab%20%3D%20L.AwesomeMarkers.icon%28%0A%20%20%20%20%20%20%20%20%20%20%20%20%20%20%20%20%7B%22extraClasses%22%3A%20%22fa-rotate-0%22%2C%20%22icon%22%3A%20%22info-sign%22%2C%20%22iconColor%22%3A%20%22white%22%2C%20%22markerColor%22%3A%20%22green%22%2C%20%22prefix%22%3A%20%22glyphicon%22%7D%0A%20%20%20%20%20%20%20%20%20%20%20%20%29%3B%0A%20%20%20%20%20%20%20%20%20%20%20%20marker_ae252b8323a3436d9063faec766166eb.setIcon%28icon_22bd68dca8ea459981fbff44f35a8dab%29%3B%0A%20%20%20%20%20%20%20%20%0A%20%20%20%20%0A%20%20%20%20%20%20%20%20%20%20%20%20marker_ae252b8323a3436d9063faec766166eb.bindTooltip%28%0A%20%20%20%20%20%20%20%20%20%20%20%20%20%20%20%20%60%3Cdiv%3E%0A%20%20%20%20%20%20%20%20%20%20%20%20%20%20%20%20%20%20%20%20%20Start/End%0A%20%20%20%20%20%20%20%20%20%20%20%20%20%20%20%20%20%3C/div%3E%60%2C%0A%20%20%20%20%20%20%20%20%20%20%20%20%20%20%20%20%7B%22sticky%22%3A%20true%7D%0A%20%20%20%20%20%20%20%20%20%20%20%20%29%3B%0A%20%20%20%20%20%20%20%20%0A%20%20%20%20%0A%20%20%20%20%20%20%20%20%20%20%20%20var%20marker_0eeaef81b5dc458f910a906d7468004b%20%3D%20L.marker%28%0A%20%20%20%20%20%20%20%20%20%20%20%20%20%20%20%20%5B35.690187%2C%20-88.23135383%5D%2C%0A%20%20%20%20%20%20%20%20%20%20%20%20%20%20%20%20%7B%7D%0A%20%20%20%20%20%20%20%20%20%20%20%20%29.addTo%28map_a37cd89cbbc14327afa914a080299374%29%3B%0A%20%20%20%20%20%20%20%20%0A%20%20%20%20%0A%20%20%20%20%20%20%20%20%20%20%20%20var%20icon_45b4df9f9cd047c8ad818f8121caae39%20%3D%20L.AwesomeMarkers.icon%28%0A%20%20%20%20%20%20%20%20%20%20%20%20%20%20%20%20%7B%22extraClasses%22%3A%20%22fa-rotate-0%22%2C%20%22icon%22%3A%20%22info-sign%22%2C%20%22iconColor%22%3A%20%22white%22%2C%20%22markerColor%22%3A%20%22blue%22%2C%20%22prefix%22%3A%20%22glyphicon%22%7D%0A%20%20%20%20%20%20%20%20%20%20%20%20%29%3B%0A%20%20%20%20%20%20%20%20%20%20%20%20marker_0eeaef81b5dc458f910a906d7468004b.setIcon%28icon_45b4df9f9cd047c8ad818f8121caae39%29%3B%0A%20%20%20%20%20%20%20%20%0A%20%20%20%20%0A%20%20%20%20%20%20%20%20%20%20%20%20marker_0eeaef81b5dc458f910a906d7468004b.bindTooltip%28%0A%20%20%20%20%20%20%20%20%20%20%20%20%20%20%20%20%60%3Cdiv%3E%0A%20%20%20%20%20%20%20%20%20%20%20%20%20%20%20%20%20%20%20%20%201%0A%20%20%20%20%20%20%20%20%20%20%20%20%20%20%20%20%20%3C/div%3E%60%2C%0A%20%20%20%20%20%20%20%20%20%20%20%20%20%20%20%20%7B%22sticky%22%3A%20true%7D%0A%20%20%20%20%20%20%20%20%20%20%20%20%29%3B%0A%20%20%20%20%20%20%20%20%0A%20%20%20%20%0A%20%20%20%20%20%20%20%20%20%20%20%20var%20marker_0e8699859a8349479f12244539e9ab03%20%3D%20L.marker%28%0A%20%20%20%20%20%20%20%20%20%20%20%20%20%20%20%20%5B35.68062382%2C%20-88.25015472%5D%2C%0A%20%20%20%20%20%20%20%20%20%20%20%20%20%20%20%20%7B%7D%0A%20%20%20%20%20%20%20%20%20%20%20%20%29.addTo%28map_a37cd89cbbc14327afa914a080299374%29%3B%0A%20%20%20%20%20%20%20%20%0A%20%20%20%20%0A%20%20%20%20%20%20%20%20%20%20%20%20var%20icon_fc3b46ede97e4cebbd0aa33da7445389%20%3D%20L.AwesomeMarkers.icon%28%0A%20%20%20%20%20%20%20%20%20%20%20%20%20%20%20%20%7B%22extraClasses%22%3A%20%22fa-rotate-0%22%2C%20%22icon%22%3A%20%22info-sign%22%2C%20%22iconColor%22%3A%20%22white%22%2C%20%22markerColor%22%3A%20%22blue%22%2C%20%22prefix%22%3A%20%22glyphicon%22%7D%0A%20%20%20%20%20%20%20%20%20%20%20%20%29%3B%0A%20%20%20%20%20%20%20%20%20%20%20%20marker_0e8699859a8349479f12244539e9ab03.setIcon%28icon_fc3b46ede97e4cebbd0aa33da7445389%29%3B%0A%20%20%20%20%20%20%20%20%0A%20%20%20%20%0A%20%20%20%20%20%20%20%20%20%20%20%20marker_0e8699859a8349479f12244539e9ab03.bindTooltip%28%0A%20%20%20%20%20%20%20%20%20%20%20%20%20%20%20%20%60%3Cdiv%3E%0A%20%20%20%20%20%20%20%20%20%20%20%20%20%20%20%20%20%20%20%20%202%0A%20%20%20%20%20%20%20%20%20%20%20%20%20%20%20%20%20%3C/div%3E%60%2C%0A%20%20%20%20%20%20%20%20%20%20%20%20%20%20%20%20%7B%22sticky%22%3A%20true%7D%0A%20%20%20%20%20%20%20%20%20%20%20%20%29%3B%0A%20%20%20%20%20%20%20%20%0A%20%20%20%20%0A%20%20%20%20%20%20%20%20%20%20%20%20var%20marker_5ad4fed06f71417bad3c7d1aa71b458c%20%3D%20L.marker%28%0A%20%20%20%20%20%20%20%20%20%20%20%20%20%20%20%20%5B35.70387548%2C%20-88.27184805%5D%2C%0A%20%20%20%20%20%20%20%20%20%20%20%20%20%20%20%20%7B%7D%0A%20%20%20%20%20%20%20%20%20%20%20%20%29.addTo%28map_a37cd89cbbc14327afa914a080299374%29%3B%0A%20%20%20%20%20%20%20%20%0A%20%20%20%20%0A%20%20%20%20%20%20%20%20%20%20%20%20var%20icon_f5b7425df414440baba4e8afa1226ea3%20%3D%20L.AwesomeMarkers.icon%28%0A%20%20%20%20%20%20%20%20%20%20%20%20%20%20%20%20%7B%22extraClasses%22%3A%20%22fa-rotate-0%22%2C%20%22icon%22%3A%20%22info-sign%22%2C%20%22iconColor%22%3A%20%22white%22%2C%20%22markerColor%22%3A%20%22blue%22%2C%20%22prefix%22%3A%20%22glyphicon%22%7D%0A%20%20%20%20%20%20%20%20%20%20%20%20%29%3B%0A%20%20%20%20%20%20%20%20%20%20%20%20marker_5ad4fed06f71417bad3c7d1aa71b458c.setIcon%28icon_f5b7425df414440baba4e8afa1226ea3%29%3B%0A%20%20%20%20%20%20%20%20%0A%20%20%20%20%0A%20%20%20%20%20%20%20%20%20%20%20%20marker_5ad4fed06f71417bad3c7d1aa71b458c.bindTooltip%28%0A%20%20%20%20%20%20%20%20%20%20%20%20%20%20%20%20%60%3Cdiv%3E%0A%20%20%20%20%20%20%20%20%20%20%20%20%20%20%20%20%20%20%20%20%203%0A%20%20%20%20%20%20%20%20%20%20%20%20%20%20%20%20%20%3C/div%3E%60%2C%0A%20%20%20%20%20%20%20%20%20%20%20%20%20%20%20%20%7B%22sticky%22%3A%20true%7D%0A%20%20%20%20%20%20%20%20%20%20%20%20%29%3B%0A%20%20%20%20%20%20%20%20%0A%20%20%20%20%0A%20%20%20%20%20%20%20%20%20%20%20%20var%20marker_39673b6552b84e319554ee0cfa9ecd24%20%3D%20L.marker%28%0A%20%20%20%20%20%20%20%20%20%20%20%20%20%20%20%20%5B35.67708356%2C%20-88.39348067%5D%2C%0A%20%20%20%20%20%20%20%20%20%20%20%20%20%20%20%20%7B%7D%0A%20%20%20%20%20%20%20%20%20%20%20%20%29.addTo%28map_a37cd89cbbc14327afa914a080299374%29%3B%0A%20%20%20%20%20%20%20%20%0A%20%20%20%20%0A%20%20%20%20%20%20%20%20%20%20%20%20var%20icon_b492fd23e58140788b07711fdf8dc0d0%20%3D%20L.AwesomeMarkers.icon%28%0A%20%20%20%20%20%20%20%20%20%20%20%20%20%20%20%20%7B%22extraClasses%22%3A%20%22fa-rotate-0%22%2C%20%22icon%22%3A%20%22info-sign%22%2C%20%22iconColor%22%3A%20%22white%22%2C%20%22markerColor%22%3A%20%22blue%22%2C%20%22prefix%22%3A%20%22glyphicon%22%7D%0A%20%20%20%20%20%20%20%20%20%20%20%20%29%3B%0A%20%20%20%20%20%20%20%20%20%20%20%20marker_39673b6552b84e319554ee0cfa9ecd24.setIcon%28icon_b492fd23e58140788b07711fdf8dc0d0%29%3B%0A%20%20%20%20%20%20%20%20%0A%20%20%20%20%0A%20%20%20%20%20%20%20%20%20%20%20%20marker_39673b6552b84e319554ee0cfa9ecd24.bindTooltip%28%0A%20%20%20%20%20%20%20%20%20%20%20%20%20%20%20%20%60%3Cdiv%3E%0A%20%20%20%20%20%20%20%20%20%20%20%20%20%20%20%20%20%20%20%20%204%0A%20%20%20%20%20%20%20%20%20%20%20%20%20%20%20%20%20%3C/div%3E%60%2C%0A%20%20%20%20%20%20%20%20%20%20%20%20%20%20%20%20%7B%22sticky%22%3A%20true%7D%0A%20%20%20%20%20%20%20%20%20%20%20%20%29%3B%0A%20%20%20%20%20%20%20%20%0A%20%20%20%20%0A%20%20%20%20%20%20%20%20%20%20%20%20var%20poly_line_4a44dec9543f4affa0c5e7b8ee0b7359%20%3D%20L.polyline%28%0A%20%20%20%20%20%20%20%20%20%20%20%20%20%20%20%20%5B%5B35.695343%2C%20-88.380272%5D%2C%20%5B35.69538%2C%20-88.3804%5D%2C%20%5B35.695537%2C%20-88.380844%5D%2C%20%5B35.69558%2C%20-88.381148%5D%2C%20%5B35.695577%2C%20-88.381467%5D%2C%20%5B35.695551%2C%20-88.381649%5D%2C%20%5B35.695301%2C%20-88.382425%5D%2C%20%5B35.695128%2C%20-88.383364%5D%2C%20%5B35.695049%2C%20-88.383644%5D%2C%20%5B35.694957%2C%20-88.384115%5D%2C%20%5B35.694931%2C%20-88.384668%5D%2C%20%5B35.694823%2C%20-88.386755%5D%2C%20%5B35.69347%2C%20-88.386634%5D%2C%20%5B35.692811%2C%20-88.386575%5D%2C%20%5B35.690686%2C%20-88.386416%5D%2C%20%5B35.688293%2C%20-88.386226%5D%2C%20%5B35.688195%2C%20-88.386219%5D%2C%20%5B35.685299%2C%20-88.386009%5D%2C%20%5B35.684111%2C%20-88.385915%5D%2C%20%5B35.682796%2C%20-88.38581%5D%2C%20%5B35.680842%2C%20-88.385663%5D%2C%20%5B35.680066%2C%20-88.385588%5D%2C%20%5B35.678093%2C%20-88.385364%5D%2C%20%5B35.677447%2C%20-88.385303%5D%2C%20%5B35.67725%2C%20-88.385282%5D%2C%20%5B35.670092%2C%20-88.384493%5D%2C%20%5B35.66914%2C%20-88.384416%5D%2C%20%5B35.668578%2C%20-88.3844%5D%2C%20%5B35.667117%2C%20-88.384344%5D%2C%20%5B35.664596%2C%20-88.384257%5D%2C%20%5B35.663812%2C%20-88.384288%5D%2C%20%5B35.662498%2C%20-88.384437%5D%2C%20%5B35.661796%2C%20-88.384578%5D%2C%20%5B35.661213%2C%20-88.384722%5D%2C%20%5B35.660631%2C%20-88.38489%5D%2C%20%5B35.659982%2C%20-88.385113%5D%2C%20%5B35.659488%2C%20-88.385325%5D%2C%20%5B35.659104%2C%20-88.385506%5D%2C%20%5B35.658036%2C%20-88.386009%5D%2C%20%5B35.65751%2C%20-88.386288%5D%2C%20%5B35.656905%2C%20-88.386709%5D%2C%20%5B35.656408%2C%20-88.387084%5D%2C%20%5B35.655084%2C%20-88.388141%5D%2C%20%5B35.653368%2C%20-88.390044%5D%2C%20%5B35.651389%2C%20-88.39267%5D%2C%20%5B35.650888%2C%20-88.393357%5D%2C%20%5B35.650789%2C%20-88.393493%5D%2C%20%5B35.650691%2C%20-88.393382%5D%2C%20%5B35.650126%2C%20-88.392745%5D%2C%20%5B35.649792%2C%20-88.392366%5D%2C%20%5B35.649475%2C%20-88.392011%5D%2C%20%5B35.648828%2C%20-88.391283%5D%2C%20%5B35.648226%2C%20-88.390584%5D%2C%20%5B35.647804%2C%20-88.390096%5D%2C%20%5B35.647323%2C%20-88.389602%5D%2C%20%5B35.646133%2C%20-88.388353%5D%2C%20%5B35.645686%2C%20-88.387861%5D%2C%20%5B35.644293%2C%20-88.386461%5D%2C%20%5B35.643923%2C%20-88.386112%5D%2C%20%5B35.643665%2C%20-88.385796%5D%2C%20%5B35.64307%2C%20-88.384917%5D%2C%20%5B35.642769%2C%20-88.384307%5D%2C%20%5B35.642566%2C%20-88.383802%5D%2C%20%5B35.64236%2C%20-88.383036%5D%2C%20%5B35.642141%2C%20-88.381711%5D%2C%20%5B35.642129%2C%20-88.381635%5D%2C%20%5B35.641261%2C%20-88.375319%5D%2C%20%5B35.640685%2C%20-88.370972%5D%2C%20%5B35.640284%2C%20-88.367993%5D%2C%20%5B35.639568%2C%20-88.362889%5D%2C%20%5B35.639327%2C%20-88.36082%5D%2C%20%5B35.639008%2C%20-88.358385%5D%2C%20%5B35.63884%2C%20-88.35749%5D%2C%20%5B35.638799%2C%20-88.357327%5D%2C%20%5B35.63867%2C%20-88.35681%5D%2C%20%5B35.638634%2C%20-88.356664%5D%2C%20%5B35.638584%2C%20-88.356463%5D%2C%20%5B35.638245%2C%20-88.3551%5D%2C%20%5B35.638195%2C%20-88.354901%5D%2C%20%5B35.637531%2C%20-88.35188%5D%2C%20%5B35.637127%2C%20-88.350296%5D%2C%20%5B35.63636%2C%20-88.347108%5D%2C%20%5B35.635576%2C%20-88.343879%5D%2C%20%5B35.634005%2C%20-88.337288%5D%2C%20%5B35.633834%2C%20-88.336783%5D%2C%20%5B35.633507%2C%20-88.335544%5D%2C%20%5B35.632825%2C%20-88.333419%5D%2C%20%5B35.632273%2C%20-88.331027%5D%2C%20%5B35.630664%2C%20-88.324311%5D%2C%20%5B35.630376%2C%20-88.3232%5D%2C%20%5B35.629623%2C%20-88.320095%5D%2C%20%5B35.629174%2C%20-88.317761%5D%2C%20%5B35.628637%2C%20-88.314323%5D%2C%20%5B35.628119%2C%20-88.311018%5D%2C%20%5B35.627992%2C%20-88.309977%5D%2C%20%5B35.627763%2C%20-88.308428%5D%2C%20%5B35.627735%2C%20-88.307553%5D%2C%20%5B35.627761%2C%20-88.306501%5D%2C%20%5B35.627948%2C%20-88.305128%5D%2C%20%5B35.62942%2C%20-88.298182%5D%2C%20%5B35.629888%2C%20-88.296069%5D%2C%20%5B35.630711%2C%20-88.292291%5D%2C%20%5B35.632443%2C%20-88.284309%5D%2C%20%5B35.633183%2C%20-88.280921%5D%2C%20%5B35.633541%2C%20-88.279363%5D%2C%20%5B35.634114%2C%20-88.277722%5D%2C%20%5B35.634522%2C%20-88.275888%5D%2C%20%5B35.635048%2C%20-88.273504%5D%2C%20%5B35.635339%2C%20-88.272009%5D%2C%20%5B35.635525%2C%20-88.271166%5D%2C%20%5B35.636465%2C%20-88.26686%5D%2C%20%5B35.636769%2C%20-88.265397%5D%2C%20%5B35.637858%2C%20-88.260319%5D%2C%20%5B35.638094%2C%20-88.259386%5D%2C%20%5B35.638076%2C%20-88.25915%5D%2C%20%5B35.638429%2C%20-88.257143%5D%2C%20%5B35.638752%2C%20-88.25467%5D%2C%20%5B35.639009%2C%20-88.252541%5D%2C%20%5B35.639354%2C%20-88.249901%5D%2C%20%5B35.639541%2C%20-88.248324%5D%2C%20%5B35.639641%2C%20-88.247611%5D%2C%20%5B35.639833%2C%20-88.246109%5D%2C%20%5B35.639886%2C%20-88.245669%5D%2C%20%5B35.640038%2C%20-88.244553%5D%2C%20%5B35.640561%2C%20-88.240557%5D%2C%20%5B35.64088%2C%20-88.238067%5D%2C%20%5B35.641045%2C%20-88.236963%5D%2C%20%5B35.641167%2C%20-88.23568%5D%2C%20%5B35.641176%2C%20-88.234618%5D%2C%20%5B35.641102%2C%20-88.233873%5D%2C%20%5B35.640993%2C%20-88.233197%5D%2C%20%5B35.640997%2C%20-88.233036%5D%2C%20%5B35.640553%2C%20-88.231475%5D%2C%20%5B35.640899%2C%20-88.231312%5D%2C%20%5B35.64122%2C%20-88.230911%5D%2C%20%5B35.641769%2C%20-88.230557%5D%2C%20%5B35.642405%2C%20-88.23045%5D%2C%20%5B35.643086%2C%20-88.230514%5D%2C%20%5B35.643626%2C%20-88.230729%5D%2C%20%5B35.643862%2C%20-88.230944%5D%2C%20%5B35.64503%2C%20-88.231737%5D%2C%20%5B35.64564%2C%20-88.232231%5D%2C%20%5B35.646102%2C%20-88.232639%5D%2C%20%5B35.646486%2C%20-88.233025%5D%2C%20%5B35.647401%2C%20-88.234119%5D%2C%20%5B35.648386%2C%20-88.235192%5D%2C%20%5B35.649093%2C%20-88.235611%5D%2C%20%5B35.649616%2C%20-88.235825%5D%2C%20%5B35.650819%2C%20-88.2359%5D%2C%20%5B35.651787%2C%20-88.235847%5D%2C%20%5B35.652981%2C%20-88.236211%5D%2C%20%5B35.654045%2C%20-88.236898%5D%2C%20%5B35.654568%2C%20-88.237156%5D%2C%20%5B35.655213%2C%20-88.237595%5D%2C%20%5B35.656254%2C%20-88.238218%5D%2C%20%5B35.656888%2C%20-88.238602%5D%2C%20%5B35.657392%2C%20-88.238743%5D%2C%20%5B35.65758%2C%20-88.238829%5D%2C%20%5B35.657911%2C%20-88.238926%5D%2C%20%5B35.658294%2C%20-88.238872%5D%2C%20%5B35.658843%2C%20-88.238701%5D%2C%20%5B35.659489%2C%20-88.238459%5D%2C%20%5B35.661842%2C%20-88.237649%5D%2C%20%5B35.662696%2C%20-88.237381%5D%2C%20%5B35.66352%2C%20-88.237182%5D%2C%20%5B35.664021%2C%20-88.23714%5D%2C%20%5B35.664492%2C%20-88.237123%5D%2C%20%5B35.665939%2C%20-88.237306%5D%2C%20%5B35.666314%2C%20-88.237365%5D%2C%20%5B35.666654%2C%20-88.237569%5D%2C%20%5B35.666998%2C%20-88.237751%5D%2C%20%5B35.667438%2C%20-88.238148%5D%2C%20%5B35.668393%2C%20-88.239688%5D%2C%20%5B35.668802%2C%20-88.24016%5D%2C%20%5B35.668937%2C%20-88.240262%5D%2C%20%5B35.669247%2C%20-88.240449%5D%2C%20%5B35.669513%2C%20-88.240498%5D%2C%20%5B35.670602%2C%20-88.240503%5D%2C%20%5B35.670946%2C%20-88.240583%5D%2C%20%5B35.671543%2C%20-88.240782%5D%2C%20%5B35.672345%2C%20-88.241098%5D%2C%20%5B35.672825%2C%20-88.241259%5D%2C%20%5B35.673984%2C%20-88.241694%5D%2C%20%5B35.67448%2C%20-88.241833%5D%2C%20%5B35.67462%2C%20-88.241823%5D%2C%20%5B35.675191%2C%20-88.241876%5D%2C%20%5B35.675509%2C%20-88.241758%5D%2C%20%5B35.676468%2C%20-88.241281%5D%2C%20%5B35.677143%2C%20-88.241179%5D%2C%20%5B35.677283%2C%20-88.241179%5D%2C%20%5B35.677736%2C%20-88.241243%5D%2C%20%5B35.677932%2C%20-88.241313%5D%2C%20%5B35.678111%2C%20-88.241474%5D%2C%20%5B35.67825%2C%20-88.241629%5D%2C%20%5B35.678477%2C%20-88.242128%5D%2C%20%5B35.678703%2C%20-88.242504%5D%2C%20%5B35.678782%2C%20-88.242676%5D%2C%20%5B35.679763%2C%20-88.242434%5D%2C%20%5B35.680587%2C%20-88.241424%5D%2C%20%5B35.681733%2C%20-88.240414%5D%2C%20%5B35.683885%2C%20-88.238984%5D%2C%20%5B35.684801%2C%20-88.238564%5D%2C%20%5B35.685511%2C%20-88.238424%5D%2C%20%5B35.68542%2C%20-88.238115%5D%2C%20%5B35.685145%2C%20-88.237806%5D%2C%20%5B35.68471%2C%20-88.236992%5D%2C%20%5B35.684207%2C%20-88.235841%5D%2C%20%5B35.683704%2C%20-88.23354%5D%2C%20%5B35.683727%2C%20-88.232501%5D%2C%20%5B35.684163%2C%20-88.231126%5D%2C%20%5B35.684462%2C%20-88.22832%5D%2C%20%5B35.685881%2C%20-88.22818%5D%2C%20%5B35.687255%2C%20-88.228181%5D%2C%20%5B35.687645%2C%20-88.228293%5D%2C%20%5B35.687942%2C%20-88.228546%5D%2C%20%5B35.689109%2C%20-88.23009%5D%2C%20%5B35.690185%2C%20-88.230933%5D%2C%20%5B35.690307%2C%20-88.230995%5D%5D%2C%0A%20%20%20%20%20%20%20%20%20%20%20%20%20%20%20%20%7B%22bubblingMouseEvents%22%3A%20true%2C%20%22color%22%3A%20%22blue%22%2C%20%22dashArray%22%3A%20null%2C%20%22dashOffset%22%3A%20null%2C%20%22fill%22%3A%20false%2C%20%22fillColor%22%3A%20%22blue%22%2C%20%22fillOpacity%22%3A%200.2%2C%20%22fillRule%22%3A%20%22evenodd%22%2C%20%22lineCap%22%3A%20%22round%22%2C%20%22lineJoin%22%3A%20%22round%22%2C%20%22noClip%22%3A%20false%2C%20%22opacity%22%3A%200.6%2C%20%22smoothFactor%22%3A%201.0%2C%20%22stroke%22%3A%20true%2C%20%22weight%22%3A%208%7D%0A%20%20%20%20%20%20%20%20%20%20%20%20%29.addTo%28map_a37cd89cbbc14327afa914a080299374%29%3B%0A%20%20%20%20%20%20%20%20%0A%20%20%20%20%0A%20%20%20%20%20%20%20%20%20%20%20%20var%20poly_line_994cff675b7c4650aa78007bee2622bb%20%3D%20L.polyline%28%0A%20%20%20%20%20%20%20%20%20%20%20%20%20%20%20%20%5B%5B35.690307%2C%20-88.230995%5D%2C%20%5B35.690185%2C%20-88.230933%5D%2C%20%5B35.689109%2C%20-88.23009%5D%2C%20%5B35.687942%2C%20-88.228546%5D%2C%20%5B35.687645%2C%20-88.228293%5D%2C%20%5B35.687255%2C%20-88.228181%5D%2C%20%5B35.685881%2C%20-88.22818%5D%2C%20%5B35.684462%2C%20-88.22832%5D%2C%20%5B35.684163%2C%20-88.231126%5D%2C%20%5B35.683727%2C%20-88.232501%5D%2C%20%5B35.683704%2C%20-88.23354%5D%2C%20%5B35.684207%2C%20-88.235841%5D%2C%20%5B35.68471%2C%20-88.236992%5D%2C%20%5B35.685145%2C%20-88.237806%5D%2C%20%5B35.68542%2C%20-88.238115%5D%2C%20%5B35.685511%2C%20-88.238424%5D%2C%20%5B35.684801%2C%20-88.238564%5D%2C%20%5B35.683885%2C%20-88.238984%5D%2C%20%5B35.681733%2C%20-88.240414%5D%2C%20%5B35.680587%2C%20-88.241424%5D%2C%20%5B35.679763%2C%20-88.242434%5D%2C%20%5B35.678782%2C%20-88.242676%5D%2C%20%5B35.679226%2C%20-88.243099%5D%2C%20%5B35.680599%2C%20-88.244194%5D%2C%20%5B35.680877%2C%20-88.244537%5D%2C%20%5B35.68113%2C%20-88.245122%5D%2C%20%5B35.681226%2C%20-88.245379%5D%2C%20%5B35.681492%2C%20-88.245782%5D%2C%20%5B35.681684%2C%20-88.245944%5D%2C%20%5B35.682577%2C%20-88.24645%5D%2C%20%5B35.682554%2C%20-88.246787%5D%2C%20%5B35.681935%2C%20-88.250041%5D%2C%20%5B35.681803%2C%20-88.250587%5D%5D%2C%0A%20%20%20%20%20%20%20%20%20%20%20%20%20%20%20%20%7B%22bubblingMouseEvents%22%3A%20true%2C%20%22color%22%3A%20%22blue%22%2C%20%22dashArray%22%3A%20null%2C%20%22dashOffset%22%3A%20null%2C%20%22fill%22%3A%20false%2C%20%22fillColor%22%3A%20%22blue%22%2C%20%22fillOpacity%22%3A%200.2%2C%20%22fillRule%22%3A%20%22evenodd%22%2C%20%22lineCap%22%3A%20%22round%22%2C%20%22lineJoin%22%3A%20%22round%22%2C%20%22noClip%22%3A%20false%2C%20%22opacity%22%3A%200.6%2C%20%22smoothFactor%22%3A%201.0%2C%20%22stroke%22%3A%20true%2C%20%22weight%22%3A%208%7D%0A%20%20%20%20%20%20%20%20%20%20%20%20%29.addTo%28map_a37cd89cbbc14327afa914a080299374%29%3B%0A%20%20%20%20%20%20%20%20%0A%20%20%20%20%0A%20%20%20%20%20%20%20%20%20%20%20%20var%20poly_line_82586096878d4193ba67b45417b43aa9%20%3D%20L.polyline%28%0A%20%20%20%20%20%20%20%20%20%20%20%20%20%20%20%20%5B%5B35.681803%2C%20-88.250587%5D%2C%20%5B35.681462%2C%20-88.251995%5D%2C%20%5B35.681446%2C%20-88.252061%5D%2C%20%5B35.681354%2C%20-88.252578%5D%2C%20%5B35.68127%2C%20-88.253686%5D%2C%20%5B35.681259%2C%20-88.256457%5D%2C%20%5B35.681241%2C%20-88.257374%5D%2C%20%5B35.681204%2C%20-88.258214%5D%2C%20%5B35.681161%2C%20-88.25875%5D%2C%20%5B35.681119%2C%20-88.259126%5D%2C%20%5B35.680793%2C%20-88.260821%5D%2C%20%5B35.680597%2C%20-88.261945%5D%2C%20%5B35.680542%2C%20-88.262374%5D%2C%20%5B35.680599%2C%20-88.263082%5D%2C%20%5B35.680668%2C%20-88.263468%5D%2C%20%5B35.680784%2C%20-88.26379%5D%2C%20%5B35.680984%2C%20-88.264211%5D%2C%20%5B35.681427%2C%20-88.264938%5D%2C%20%5B35.681924%2C%20-88.265828%5D%2C%20%5B35.682053%2C%20-88.266168%5D%2C%20%5B35.682264%2C%20-88.266065%5D%2C%20%5B35.68263%2C%20-88.266374%5D%2C%20%5B35.683752%2C%20-88.266794%5D%2C%20%5B35.684371%2C%20-88.267159%5D%2C%20%5B35.685218%2C%20-88.268197%5D%2C%20%5B35.685974%2C%20-88.268281%5D%2C%20%5B35.687461%2C%20-88.267718%5D%2C%20%5B35.687988%2C%20-88.267606%5D%2C%20%5B35.690461%2C%20-88.267662%5D%2C%20%5B35.691904%2C%20-88.267942%5D%2C%20%5B35.693003%2C%20-88.268446%5D%2C%20%5B35.695385%2C%20-88.269484%5D%2C%20%5B35.696622%2C%20-88.270157%5D%2C%20%5B35.697835%2C%20-88.270353%5D%2C%20%5B35.699415%2C%20-88.270239%5D%2C%20%5B35.699755%2C%20-88.270332%5D%2C%20%5B35.700123%2C%20-88.270495%5D%2C%20%5B35.701153%2C%20-88.270978%5D%2C%20%5B35.701702%2C%20-88.271271%5D%2C%20%5B35.701949%2C%20-88.271347%5D%2C%20%5B35.702161%2C%20-88.271382%5D%2C%20%5B35.702701%2C%20-88.271309%5D%2C%20%5B35.703864%2C%20-88.271273%5D%5D%2C%0A%20%20%20%20%20%20%20%20%20%20%20%20%20%20%20%20%7B%22bubblingMouseEvents%22%3A%20true%2C%20%22color%22%3A%20%22blue%22%2C%20%22dashArray%22%3A%20null%2C%20%22dashOffset%22%3A%20null%2C%20%22fill%22%3A%20false%2C%20%22fillColor%22%3A%20%22blue%22%2C%20%22fillOpacity%22%3A%200.2%2C%20%22fillRule%22%3A%20%22evenodd%22%2C%20%22lineCap%22%3A%20%22round%22%2C%20%22lineJoin%22%3A%20%22round%22%2C%20%22noClip%22%3A%20false%2C%20%22opacity%22%3A%200.6%2C%20%22smoothFactor%22%3A%201.0%2C%20%22stroke%22%3A%20true%2C%20%22weight%22%3A%208%7D%0A%20%20%20%20%20%20%20%20%20%20%20%20%29.addTo%28map_a37cd89cbbc14327afa914a080299374%29%3B%0A%20%20%20%20%20%20%20%20%0A%20%20%20%20%0A%20%20%20%20%20%20%20%20%20%20%20%20var%20poly_line_5490be92ffee4ce2b194e78a081c8ce0%20%3D%20L.polyline%28%0A%20%20%20%20%20%20%20%20%20%20%20%20%20%20%20%20%5B%5B35.703864%2C%20-88.271273%5D%2C%20%5B35.702701%2C%20-88.271309%5D%2C%20%5B35.702161%2C%20-88.271382%5D%2C%20%5B35.701949%2C%20-88.271347%5D%2C%20%5B35.701702%2C%20-88.271271%5D%2C%20%5B35.701153%2C%20-88.270978%5D%2C%20%5B35.700123%2C%20-88.270495%5D%2C%20%5B35.699755%2C%20-88.270332%5D%2C%20%5B35.699415%2C%20-88.270239%5D%2C%20%5B35.697835%2C%20-88.270353%5D%2C%20%5B35.696622%2C%20-88.270157%5D%2C%20%5B35.695385%2C%20-88.269484%5D%2C%20%5B35.693003%2C%20-88.268446%5D%2C%20%5B35.691904%2C%20-88.267942%5D%2C%20%5B35.690461%2C%20-88.267662%5D%2C%20%5B35.687988%2C%20-88.267606%5D%2C%20%5B35.687461%2C%20-88.267718%5D%2C%20%5B35.685974%2C%20-88.268281%5D%2C%20%5B35.685218%2C%20-88.268197%5D%2C%20%5B35.684371%2C%20-88.267159%5D%2C%20%5B35.683752%2C%20-88.266794%5D%2C%20%5B35.68263%2C%20-88.266374%5D%2C%20%5B35.682264%2C%20-88.266065%5D%2C%20%5B35.682053%2C%20-88.266168%5D%2C%20%5B35.681959%2C%20-88.266282%5D%2C%20%5B35.681174%2C%20-88.266815%5D%2C%20%5B35.679219%2C%20-88.268509%5D%2C%20%5B35.676266%2C%20-88.271176%5D%2C%20%5B35.675465%2C%20-88.272411%5D%2C%20%5B35.674092%2C%20-88.276033%5D%2C%20%5B35.673703%2C%20-88.277717%5D%2C%20%5B35.673498%2C%20-88.278306%5D%2C%20%5B35.6732%2C%20-88.278559%5D%2C%20%5B35.67217%2C%20-88.279233%5D%2C%20%5B35.670819%2C%20-88.279851%5D%2C%20%5B35.670338%2C%20-88.279963%5D%2C%20%5B35.669788%2C%20-88.279655%5D%2C%20%5B35.669582%2C%20-88.279458%5D%2C%20%5B35.668437%2C%20-88.278056%5D%2C%20%5B35.667704%2C%20-88.277522%5D%2C%20%5B35.666994%2C%20-88.277186%5D%2C%20%5B35.666398%2C%20-88.276681%5D%2C%20%5B35.665734%2C%20-88.275755%5D%2C%20%5B35.664749%2C%20-88.274577%5D%2C%20%5B35.664154%2C%20-88.274213%5D%2C%20%5B35.663817%2C%20-88.274256%5D%2C%20%5B35.663719%2C%20-88.274269%5D%2C%20%5B35.662757%2C%20-88.274073%5D%2C%20%5B35.662253%2C%20-88.274101%5D%2C%20%5B35.661497%2C%20-88.274298%5D%2C%20%5B35.661108%2C%20-88.274607%5D%2C%20%5B35.660101%2C%20-88.275814%5D%2C%20%5B35.659552%2C%20-88.276123%5D%2C%20%5B35.659162%2C%20-88.276235%5D%2C%20%5B35.658201%2C%20-88.276263%5D%2C%20%5B35.657399%2C%20-88.276095%5D%2C%20%5B35.65733%2C%20-88.276011%5D%2C%20%5B35.657056%2C%20-88.276039%5D%2C%20%5B35.656552%2C%20-88.275927%5D%2C%20%5B35.655086%2C%20-88.275928%5D%2C%20%5B35.654628%2C%20-88.276041%5D%2C%20%5B35.653301%2C%20-88.276602%5D%2C%20%5B35.651515%2C%20-88.277164%5D%2C%20%5B35.648905%2C%20-88.27753%5D%2C%20%5B35.648424%2C%20-88.277362%5D%2C%20%5B35.64634%2C%20-88.275427%5D%2C%20%5B35.645607%2C%20-88.274109%5D%2C%20%5B35.644988%2C%20-88.272454%5D%2C%20%5B35.643819%2C%20-88.270155%5D%2C%20%5B35.643544%2C%20-88.269958%5D%2C%20%5B35.64288%2C%20-88.269818%5D%2C%20%5B35.641827%2C%20-88.269707%5D%2C%20%5B35.639903%2C%20-88.269091%5D%2C%20%5B35.63917%2C%20-88.268698%5D%2C%20%5B35.637773%2C%20-88.267577%5D%2C%20%5B35.636803%2C%20-88.266941%5D%2C%20%5B35.636465%2C%20-88.26686%5D%2C%20%5B35.635525%2C%20-88.271166%5D%2C%20%5B35.635339%2C%20-88.272009%5D%2C%20%5B35.635048%2C%20-88.273504%5D%2C%20%5B35.634522%2C%20-88.275888%5D%2C%20%5B35.634114%2C%20-88.277722%5D%2C%20%5B35.633407%2C%20-88.280936%5D%2C%20%5B35.631713%2C%20-88.288526%5D%2C%20%5B35.630902%2C%20-88.292347%5D%2C%20%5B35.63008%2C%20-88.29614%5D%2C%20%5B35.629629%2C%20-88.298195%5D%2C%20%5B35.629478%2C%20-88.298905%5D%2C%20%5B35.628843%2C%20-88.301957%5D%2C%20%5B35.628296%2C%20-88.304491%5D%2C%20%5B35.628156%2C%20-88.305221%5D%2C%20%5B35.627959%2C%20-88.306342%5D%2C%20%5B35.627934%2C%20-88.307336%5D%2C%20%5B35.627959%2C%20-88.307965%5D%2C%20%5B35.62816%2C%20-88.309962%5D%2C%20%5B35.628334%2C%20-88.31095%5D%2C%20%5B35.628804%2C%20-88.314267%5D%2C%20%5B35.629187%2C%20-88.31665%5D%2C%20%5B35.629328%2C%20-88.317632%5D%2C%20%5B35.630153%2C%20-88.321437%5D%2C%20%5B35.630553%2C%20-88.323093%5D%2C%20%5B35.630814%2C%20-88.324225%5D%2C%20%5B35.632119%2C%20-88.329667%5D%2C%20%5B35.632993%2C%20-88.333337%5D%2C%20%5B35.63372%2C%20-88.335921%5D%2C%20%5B35.634005%2C%20-88.337288%5D%2C%20%5B35.635576%2C%20-88.343879%5D%2C%20%5B35.63636%2C%20-88.347108%5D%2C%20%5B35.637127%2C%20-88.350296%5D%2C%20%5B35.637531%2C%20-88.35188%5D%2C%20%5B35.638195%2C%20-88.354901%5D%2C%20%5B35.638245%2C%20-88.3551%5D%2C%20%5B35.638584%2C%20-88.356463%5D%2C%20%5B35.638634%2C%20-88.356664%5D%2C%20%5B35.63867%2C%20-88.35681%5D%2C%20%5B35.638799%2C%20-88.357327%5D%2C%20%5B35.63884%2C%20-88.35749%5D%2C%20%5B35.639008%2C%20-88.358385%5D%2C%20%5B35.639327%2C%20-88.36082%5D%2C%20%5B35.639568%2C%20-88.362889%5D%2C%20%5B35.640284%2C%20-88.367993%5D%2C%20%5B35.640685%2C%20-88.370972%5D%2C%20%5B35.641261%2C%20-88.375319%5D%2C%20%5B35.642129%2C%20-88.381635%5D%2C%20%5B35.642141%2C%20-88.381711%5D%2C%20%5B35.64236%2C%20-88.383036%5D%2C%20%5B35.642566%2C%20-88.383802%5D%2C%20%5B35.642769%2C%20-88.384307%5D%2C%20%5B35.64307%2C%20-88.384917%5D%2C%20%5B35.643665%2C%20-88.385796%5D%2C%20%5B35.643923%2C%20-88.386112%5D%2C%20%5B35.644293%2C%20-88.386461%5D%2C%20%5B35.645686%2C%20-88.387861%5D%2C%20%5B35.646133%2C%20-88.388353%5D%2C%20%5B35.647323%2C%20-88.389602%5D%2C%20%5B35.647804%2C%20-88.390096%5D%2C%20%5B35.648226%2C%20-88.390584%5D%2C%20%5B35.648828%2C%20-88.391283%5D%2C%20%5B35.649475%2C%20-88.392011%5D%2C%20%5B35.649792%2C%20-88.392366%5D%2C%20%5B35.650126%2C%20-88.392745%5D%2C%20%5B35.650691%2C%20-88.393382%5D%2C%20%5B35.650789%2C%20-88.393493%5D%2C%20%5B35.650897%2C%20-88.393613%5D%2C%20%5B35.651562%2C%20-88.394344%5D%2C%20%5B35.652189%2C%20-88.393478%5D%2C%20%5B35.652546%2C%20-88.393064%5D%2C%20%5B35.653038%2C%20-88.392505%5D%2C%20%5B35.653923%2C%20-88.391569%5D%2C%20%5B35.65413%2C%20-88.391391%5D%2C%20%5B35.654569%2C%20-88.390961%5D%2C%20%5B35.654926%2C%20-88.390646%5D%2C%20%5B35.655381%2C%20-88.390544%5D%2C%20%5B35.656598%2C%20-88.390685%5D%2C%20%5B35.656681%2C%20-88.390687%5D%2C%20%5B35.656915%2C%20-88.390801%5D%2C%20%5B35.657617%2C%20-88.391281%5D%2C%20%5B35.658028%2C%20-88.391439%5D%2C%20%5B35.658214%2C%20-88.391468%5D%2C%20%5B35.658403%2C%20-88.391471%5D%2C%20%5B35.658645%2C%20-88.391466%5D%2C%20%5B35.659648%2C%20-88.391321%5D%2C%20%5B35.659896%2C%20-88.391253%5D%2C%20%5B35.660173%2C%20-88.391113%5D%2C%20%5B35.660662%2C%20-88.390802%5D%2C%20%5B35.66099%2C%20-88.39065%5D%2C%20%5B35.661525%2C%20-88.390467%5D%2C%20%5B35.662116%2C%20-88.390374%5D%2C%20%5B35.66251%2C%20-88.390408%5D%2C%20%5B35.662824%2C%20-88.390471%5D%2C%20%5B35.663202%2C%20-88.390689%5D%2C%20%5B35.66341%2C%20-88.390889%5D%2C%20%5B35.663498%2C%20-88.390993%5D%2C%20%5B35.663612%2C%20-88.39114%5D%2C%20%5B35.663994%2C%20-88.391783%5D%2C%20%5B35.664128%2C%20-88.391896%5D%2C%20%5B35.664407%2C%20-88.392029%5D%2C%20%5B35.664798%2C%20-88.392156%5D%2C%20%5B35.66545%2C%20-88.392301%5D%2C%20%5B35.665494%2C%20-88.392309%5D%2C%20%5B35.666107%2C%20-88.392416%5D%2C%20%5B35.666925%2C%20-88.392569%5D%2C%20%5B35.667325%2C%20-88.392612%5D%2C%20%5B35.667831%2C%20-88.392575%5D%2C%20%5B35.668111%2C%20-88.392534%5D%2C%20%5B35.668777%2C%20-88.392383%5D%2C%20%5B35.669303%2C%20-88.392292%5D%2C%20%5B35.670943%2C%20-88.392161%5D%2C%20%5B35.671438%2C%20-88.392139%5D%2C%20%5B35.672182%2C%20-88.392187%5D%2C%20%5B35.673559%2C%20-88.39234%5D%2C%20%5B35.674427%2C%20-88.392461%5D%2C%20%5B35.674646%2C%20-88.392493%5D%2C%20%5B35.675331%2C%20-88.392579%5D%2C%20%5B35.677143%2C%20-88.392833%5D%5D%2C%0A%20%20%20%20%20%20%20%20%20%20%20%20%20%20%20%20%7B%22bubblingMouseEvents%22%3A%20true%2C%20%22color%22%3A%20%22blue%22%2C%20%22dashArray%22%3A%20null%2C%20%22dashOffset%22%3A%20null%2C%20%22fill%22%3A%20false%2C%20%22fillColor%22%3A%20%22blue%22%2C%20%22fillOpacity%22%3A%200.2%2C%20%22fillRule%22%3A%20%22evenodd%22%2C%20%22lineCap%22%3A%20%22round%22%2C%20%22lineJoin%22%3A%20%22round%22%2C%20%22noClip%22%3A%20false%2C%20%22opacity%22%3A%200.6%2C%20%22smoothFactor%22%3A%201.0%2C%20%22stroke%22%3A%20true%2C%20%22weight%22%3A%208%7D%0A%20%20%20%20%20%20%20%20%20%20%20%20%29.addTo%28map_a37cd89cbbc14327afa914a080299374%29%3B%0A%20%20%20%20%20%20%20%20%0A%20%20%20%20%0A%20%20%20%20%20%20%20%20%20%20%20%20var%20poly_line_4ae5eb5c6bca4d48a68594d0cf56ff25%20%3D%20L.polyline%28%0A%20%20%20%20%20%20%20%20%20%20%20%20%20%20%20%20%5B%5B35.677143%2C%20-88.392833%5D%2C%20%5B35.678195%2C%20-88.392981%5D%2C%20%5B35.678733%2C%20-88.393111%5D%2C%20%5B35.678784%2C%20-88.393124%5D%2C%20%5B35.678934%2C%20-88.393185%5D%2C%20%5B35.679116%2C%20-88.393304%5D%2C%20%5B35.679248%2C%20-88.393412%5D%2C%20%5B35.679406%2C%20-88.393594%5D%2C%20%5B35.679605%2C%20-88.393755%5D%2C%20%5B35.679805%2C%20-88.393864%5D%2C%20%5B35.68%2C%20-88.393881%5D%2C%20%5B35.680202%2C%20-88.393866%5D%2C%20%5B35.680472%2C%20-88.39378%5D%2C%20%5B35.680764%2C%20-88.393652%5D%2C%20%5B35.680859%2C%20-88.393585%5D%2C%20%5B35.681303%2C%20-88.393274%5D%2C%20%5B35.681453%2C%20-88.39318%5D%2C%20%5B35.681845%2C%20-88.393%5D%2C%20%5B35.682531%2C%20-88.392766%5D%2C%20%5B35.683603%2C%20-88.392447%5D%2C%20%5B35.683837%2C%20-88.392426%5D%2C%20%5B35.68385%2C%20-88.391579%5D%2C%20%5B35.683816%2C%20-88.390907%5D%2C%20%5B35.683821%2C%20-88.390503%5D%2C%20%5B35.683987%2C%20-88.38882%5D%2C%20%5B35.68406%2C%20-88.38736%5D%2C%20%5B35.684111%2C%20-88.385915%5D%2C%20%5B35.685299%2C%20-88.386009%5D%2C%20%5B35.688195%2C%20-88.386219%5D%2C%20%5B35.688293%2C%20-88.386226%5D%2C%20%5B35.690686%2C%20-88.386416%5D%2C%20%5B35.692811%2C%20-88.386575%5D%2C%20%5B35.69347%2C%20-88.386634%5D%2C%20%5B35.694823%2C%20-88.386755%5D%2C%20%5B35.694931%2C%20-88.384668%5D%2C%20%5B35.694957%2C%20-88.384115%5D%2C%20%5B35.695049%2C%20-88.383644%5D%2C%20%5B35.695128%2C%20-88.383364%5D%2C%20%5B35.695301%2C%20-88.382425%5D%2C%20%5B35.695551%2C%20-88.381649%5D%2C%20%5B35.695577%2C%20-88.381467%5D%2C%20%5B35.69558%2C%20-88.381148%5D%2C%20%5B35.695537%2C%20-88.380844%5D%2C%20%5B35.69538%2C%20-88.3804%5D%2C%20%5B35.695343%2C%20-88.380272%5D%5D%2C%0A%20%20%20%20%20%20%20%20%20%20%20%20%20%20%20%20%7B%22bubblingMouseEvents%22%3A%20true%2C%20%22color%22%3A%20%22blue%22%2C%20%22dashArray%22%3A%20null%2C%20%22dashOffset%22%3A%20null%2C%20%22fill%22%3A%20false%2C%20%22fillColor%22%3A%20%22blue%22%2C%20%22fillOpacity%22%3A%200.2%2C%20%22fillRule%22%3A%20%22evenodd%22%2C%20%22lineCap%22%3A%20%22round%22%2C%20%22lineJoin%22%3A%20%22round%22%2C%20%22noClip%22%3A%20false%2C%20%22opacity%22%3A%200.6%2C%20%22smoothFactor%22%3A%201.0%2C%20%22stroke%22%3A%20true%2C%20%22weight%22%3A%208%7D%0A%20%20%20%20%20%20%20%20%20%20%20%20%29.addTo%28map_a37cd89cbbc14327afa914a080299374%29%3B%0A%20%20%20%20%20%20%20%20%0A%3C/script%3E onload=\"this.contentDocument.open();this.contentDocument.write(    decodeURIComponent(this.getAttribute('data-html')));this.contentDocument.close();\" allowfullscreen webkitallowfullscreen mozallowfullscreen></iframe></div></div>"
      ],
      "text/plain": [
       "<folium.folium.Map at 0x2001f56b790>"
      ]
     },
     "execution_count": 12,
     "metadata": {},
     "output_type": "execute_result"
    }
   ],
   "source": [
    "# tip: https://deparkes.co.uk/2016/06/03/plot-lines-in-folium/\n",
    "# Mapping using folium\n",
    "\n",
    "ave_lat = sum(p[0] for p in route_points)/len(route_points)\n",
    "ave_lon = sum(p[1] for p in route_points)/len(route_points)\n",
    " \n",
    "# Load map centred on average coordinates\n",
    "route_map = folium.Map(\n",
    "    location=[ave_lat, ave_lon],\n",
    "    tiles='Stamen Toner',\n",
    "    zoom_start=13)\n",
    " \n",
    "#add a markers\n",
    "\n",
    "folium.Marker(route_points[0], icon=folium.Icon(color='green'), tooltip='Start/End').add_to(route_map)\n",
    "\n",
    "for index, each in enumerate(route_points[1:-1]):\n",
    "    folium.Marker(each, icon=folium.Icon(color='blue'), tooltip=str(index+1)).add_to(route_map)\n",
    "\n",
    "\n",
    "for route in routes:\n",
    "    folium.PolyLine(\n",
    "        route,\n",
    "        weight=8,\n",
    "        color='blue',\n",
    "        opacity=0.6,\n",
    "        ).add_to(route_map)\n",
    "route_map"
   ]
  },
  {
   "cell_type": "code",
   "execution_count": 13,
   "metadata": {},
   "outputs": [],
   "source": [
    "route_map.save('route.html')"
   ]
  },
  {
   "cell_type": "code",
   "execution_count": null,
   "metadata": {},
   "outputs": [],
   "source": []
  }
 ],
 "metadata": {
  "kernelspec": {
   "display_name": "Python 3",
   "language": "python",
   "name": "python3"
  },
  "language_info": {
   "codemirror_mode": {
    "name": "ipython",
    "version": 3
   },
   "file_extension": ".py",
   "mimetype": "text/x-python",
   "name": "python",
   "nbconvert_exporter": "python",
   "pygments_lexer": "ipython3",
   "version": "3.8.5"
  }
 },
 "nbformat": 4,
 "nbformat_minor": 5
}
